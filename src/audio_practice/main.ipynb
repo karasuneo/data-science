{
 "cells": [
  {
   "cell_type": "markdown",
   "metadata": {
    "colab_type": "text",
    "id": "jH_JfF5kD0NN"
   },
   "source": [
    "# ビジネスケース　Audiobooks"
   ]
  },
  {
   "cell_type": "markdown",
   "metadata": {
    "colab_type": "text",
    "id": "4ZThlScaD0NO"
   },
   "source": [
    "### データの読み込み"
   ]
  },
  {
   "cell_type": "code",
   "execution_count": 19,
   "metadata": {
    "colab": {},
    "colab_type": "code",
    "id": "xXsniabKD0NO"
   },
   "outputs": [],
   "source": [
    "import numpy as np\n",
    "import tensorflow as tf\n",
    "\n",
    "# 前処理にはsklearnライブラリを使っていきます\n",
    "from sklearn import preprocessing\n",
    "\n",
    "\n",
    "# データを読み込みます\n",
    "raw_csv_data = np.loadtxt(\"../../data/Audiobooks-data.csv\", delimiter=\",\")\n",
    "\n",
    "# 最初のIDの列と、ターゲットである最後の列を取り除いた上で変数に代入します\n",
    "unscaled_inputs_all = raw_csv_data[:, 1:-1]\n",
    "\n",
    "# 最後の列のデータをターゲットとして変数に代入していきます\n",
    "targets_all = raw_csv_data[:, -1]"
   ]
  },
  {
   "cell_type": "markdown",
   "metadata": {
    "colab_type": "text",
    "id": "tUlN7_8LD0NR"
   },
   "source": [
    "### データセットのバランシング"
   ]
  },
  {
   "cell_type": "code",
   "execution_count": 20,
   "metadata": {
    "colab": {},
    "colab_type": "code",
    "id": "nD4CHyFXD0NR"
   },
   "outputs": [],
   "source": [
    "# ターゲットの数を数えます\n",
    "num_one_targets = int(np.sum(targets_all))\n",
    "\n",
    "# 数を数えるための変数を定義します\n",
    "zero_targets_counter = 0\n",
    "\n",
    "# バランスを取る上で不要なデータを入れるためのリストを定義します\n",
    "indices_to_remove = []\n",
    "\n",
    "# ターゲットの数を数え、その数を超える0のデータがあった場合はリストにその値をいれていきます\n",
    "for i in range(targets_all.shape[0]):\n",
    "    if targets_all[i] == 0:\n",
    "        zero_targets_counter += 1\n",
    "        if zero_targets_counter > num_one_targets:\n",
    "            indices_to_remove.append(i)\n",
    "\n",
    "# 入力とターゲットを入れるための変数を定義します\n",
    "# また、バランスが取れていないデータを削除していきます\n",
    "unscaled_inputs_equal_priors = np.delete(unscaled_inputs_all, indices_to_remove, axis=0)\n",
    "targets_equal_priors = np.delete(targets_all, indices_to_remove, axis=0)"
   ]
  },
  {
   "cell_type": "markdown",
   "metadata": {
    "colab_type": "text",
    "id": "ApqmnMBqD0NU"
   },
   "source": [
    "### 入力の標準化"
   ]
  },
  {
   "cell_type": "code",
   "execution_count": 21,
   "metadata": {
    "colab": {},
    "colab_type": "code",
    "id": "Hw1IDMYkD0NU"
   },
   "outputs": [],
   "source": [
    "# sklearnのモジュールを使って前処理をしていきます\n",
    "scaled_inputs = preprocessing.scale(unscaled_inputs_equal_priors)"
   ]
  },
  {
   "cell_type": "markdown",
   "metadata": {
    "colab_type": "text",
    "id": "5uFWtPm-D0NW"
   },
   "source": [
    "### データのシャッフル"
   ]
  },
  {
   "cell_type": "code",
   "execution_count": 22,
   "metadata": {
    "colab": {},
    "colab_type": "code",
    "id": "ClY2ZmOwD0NW"
   },
   "outputs": [],
   "source": [
    "# データをバッチに分けていくことから、何らかの規則性が生まれないようにデータをシャッフルしていきます\n",
    "shuffled_indices = np.arange(scaled_inputs.shape[0])\n",
    "np.random.shuffle(shuffled_indices)\n",
    "\n",
    "# シャッフルしたデータを変数に入れていきます\n",
    "shuffled_inputs = scaled_inputs[shuffled_indices]\n",
    "shuffled_targets = targets_equal_priors[shuffled_indices]"
   ]
  },
  {
   "cell_type": "markdown",
   "metadata": {
    "colab_type": "text",
    "id": "LzA7-YN0D0NY"
   },
   "source": [
    "### データセットの分割"
   ]
  },
  {
   "cell_type": "code",
   "execution_count": 24,
   "metadata": {
    "colab": {
     "base_uri": "https://localhost:8080/",
     "height": 68
    },
    "colab_type": "code",
    "executionInfo": {
     "elapsed": 601,
     "status": "ok",
     "timestamp": 1592108509054,
     "user": {
      "displayName": "大橋亮太",
      "photoUrl": "",
      "userId": "04193769736923210432"
     },
     "user_tz": -540
    },
    "id": "Db69pp8zD0NZ",
    "outputId": "d7f821f7-21a8-48e4-cfe2-b28543577e50"
   },
   "outputs": [
    {
     "name": "stdout",
     "output_type": "stream",
     "text": [
      "1779.0 3579 0.49706621961441744\n",
      "226.0 447 0.5055928411633109\n",
      "232.0 448 0.5178571428571429\n"
     ]
    }
   ],
   "source": [
    "# データの数を数えます\n",
    "samples_count = shuffled_inputs.shape[0]\n",
    "\n",
    "# 80-10-10に分けることを前提として、訓練用と検証用のデータの数を定義していきます\n",
    "# Naturally, the numbers are integers.\n",
    "train_samples_count = int(0.8 * samples_count)\n",
    "validation_samples_count = int(0.1 * samples_count)\n",
    "\n",
    "# テスト用のデータの数を定義します\n",
    "test_samples_count = samples_count - train_samples_count - validation_samples_count\n",
    "\n",
    "# 訓練用データを作成します\n",
    "train_inputs = shuffled_inputs[:train_samples_count]\n",
    "train_targets = shuffled_targets[:train_samples_count]\n",
    "\n",
    "# 検証用データを作成します\n",
    "validation_inputs = shuffled_inputs[\n",
    "    train_samples_count : train_samples_count + validation_samples_count\n",
    "]\n",
    "validation_targets = shuffled_targets[\n",
    "    train_samples_count : train_samples_count + validation_samples_count\n",
    "]\n",
    "\n",
    "# テスト用データを作成します\n",
    "test_inputs = shuffled_inputs[train_samples_count + validation_samples_count :]\n",
    "test_targets = shuffled_targets[train_samples_count + validation_samples_count :]\n",
    "\n",
    "\n",
    "# 作成したデータの中の１と０の割合を確認します\n",
    "print(\n",
    "    np.sum(train_targets),\n",
    "    train_samples_count,\n",
    "    np.sum(train_targets) / train_samples_count,\n",
    ")\n",
    "print(\n",
    "    np.sum(validation_targets),\n",
    "    validation_samples_count,\n",
    "    np.sum(validation_targets) / validation_samples_count,\n",
    ")\n",
    "print(\n",
    "    np.sum(test_targets), test_samples_count, np.sum(test_targets) / test_samples_count\n",
    ")"
   ]
  },
  {
   "cell_type": "markdown",
   "metadata": {
    "colab_type": "text",
    "id": "nq9z9NhzD0Nb"
   },
   "source": [
    "### データを*.npz形式で保存します"
   ]
  },
  {
   "cell_type": "code",
   "execution_count": 25,
   "metadata": {
    "colab": {},
    "colab_type": "code",
    "id": "PqlhODgZD0Nb"
   },
   "outputs": [],
   "source": [
    "# Ssavezメソッドを使ってデータを保存していきます\n",
    "np.savez(\"Audiobooks_data_train\", inputs=train_inputs, targets=train_targets)\n",
    "np.savez(\n",
    "    \"Audiobooks_data_validation\", inputs=validation_inputs, targets=validation_targets\n",
    ")\n",
    "np.savez(\"Audiobooks_data_test\", inputs=test_inputs, targets=test_targets)"
   ]
  },
  {
   "cell_type": "markdown",
   "metadata": {},
   "source": [
    "### モデルの作成"
   ]
  },
  {
   "cell_type": "code",
   "execution_count": 30,
   "metadata": {},
   "outputs": [
    {
     "name": "stdout",
     "output_type": "stream",
     "text": [
      "Epoch 1/100\n",
      "36/36 - 0s - loss: 0.5434 - accuracy: 0.7214 - val_loss: 0.4919 - val_accuracy: 0.7338 - 311ms/epoch - 9ms/step\n",
      "Epoch 2/100\n",
      "36/36 - 0s - loss: 0.4421 - accuracy: 0.7745 - val_loss: 0.4397 - val_accuracy: 0.7718 - 32ms/epoch - 883us/step\n",
      "Epoch 3/100\n",
      "36/36 - 0s - loss: 0.4010 - accuracy: 0.7983 - val_loss: 0.4134 - val_accuracy: 0.7562 - 30ms/epoch - 845us/step\n",
      "Epoch 4/100\n",
      "36/36 - 0s - loss: 0.3761 - accuracy: 0.8072 - val_loss: 0.3999 - val_accuracy: 0.7785 - 32ms/epoch - 886us/step\n",
      "Epoch 5/100\n",
      "36/36 - 0s - loss: 0.3624 - accuracy: 0.8094 - val_loss: 0.3980 - val_accuracy: 0.7785 - 33ms/epoch - 911us/step\n",
      "Epoch 6/100\n",
      "36/36 - 0s - loss: 0.3532 - accuracy: 0.8131 - val_loss: 0.3954 - val_accuracy: 0.7875 - 32ms/epoch - 880us/step\n",
      "Epoch 7/100\n",
      "36/36 - 0s - loss: 0.3484 - accuracy: 0.8083 - val_loss: 0.3935 - val_accuracy: 0.7830 - 32ms/epoch - 891us/step\n",
      "Epoch 8/100\n",
      "36/36 - 0s - loss: 0.3436 - accuracy: 0.8134 - val_loss: 0.3989 - val_accuracy: 0.7696 - 31ms/epoch - 871us/step\n",
      "Epoch 9/100\n",
      "36/36 - 0s - loss: 0.3407 - accuracy: 0.8184 - val_loss: 0.3863 - val_accuracy: 0.7875 - 32ms/epoch - 875us/step\n",
      "Epoch 10/100\n",
      "36/36 - 0s - loss: 0.3401 - accuracy: 0.8145 - val_loss: 0.3914 - val_accuracy: 0.7763 - 32ms/epoch - 878us/step\n",
      "Epoch 11/100\n",
      "36/36 - 0s - loss: 0.3331 - accuracy: 0.8215 - val_loss: 0.3840 - val_accuracy: 0.7763 - 31ms/epoch - 869us/step\n",
      "Epoch 12/100\n",
      "36/36 - 0s - loss: 0.3323 - accuracy: 0.8256 - val_loss: 0.3826 - val_accuracy: 0.7785 - 32ms/epoch - 885us/step\n",
      "Epoch 13/100\n",
      "36/36 - 0s - loss: 0.3275 - accuracy: 0.8262 - val_loss: 0.3845 - val_accuracy: 0.7808 - 32ms/epoch - 895us/step\n",
      "Epoch 14/100\n",
      "36/36 - 0s - loss: 0.3253 - accuracy: 0.8220 - val_loss: 0.3883 - val_accuracy: 0.7942 - 31ms/epoch - 874us/step\n"
     ]
    },
    {
     "data": {
      "text/plain": [
       "<keras.src.callbacks.History at 0x294133070>"
      ]
     },
     "execution_count": 30,
     "metadata": {},
     "output_type": "execute_result"
    }
   ],
   "source": [
    "input_size = 10\n",
    "output_size = 2\n",
    "hidden_layer_size = 50\n",
    "\n",
    "model = tf.keras.Sequential(\n",
    "    [\n",
    "        tf.keras.layers.Dense(hidden_layer_size, activation=\"relu\"),\n",
    "        tf.keras.layers.Dense(hidden_layer_size, activation=\"relu\"),\n",
    "        tf.keras.layers.Dense(output_size, activation=\"softmax\"),\n",
    "    ]\n",
    ")\n",
    "\n",
    "# 損失関数と目的関数を定義します\n",
    "model.compile(\n",
    "    optimizer=\"adam\", loss=\"sparse_categorical_crossentropy\", metrics=[\"accuracy\"]\n",
    ")\n",
    "\n",
    "# バッチサイズを定義します\n",
    "batch_size = 100\n",
    "\n",
    "# エポック数を定義します\n",
    "max_epochs = 100\n",
    "\n",
    "# 検証用データを使うことで、過学習を防ぎます\n",
    "early_stopping = tf.keras.callbacks.EarlyStopping(patience=2)\n",
    "\n",
    "# モデルをフィットさせます\n",
    "model.fit(\n",
    "    train_inputs,\n",
    "    train_targets,\n",
    "    batch_size=batch_size,\n",
    "    epochs=max_epochs,\n",
    "    callbacks=[early_stopping],\n",
    "    validation_data=(validation_inputs, validation_targets),\n",
    "    verbose=2,\n",
    ")"
   ]
  },
  {
   "cell_type": "markdown",
   "metadata": {},
   "source": [
    "### モデルのテスト"
   ]
  },
  {
   "cell_type": "code",
   "execution_count": 31,
   "metadata": {
    "colab": {},
    "colab_type": "code",
    "id": "QoYIctpwD-7g"
   },
   "outputs": [
    {
     "name": "stdout",
     "output_type": "stream",
     "text": [
      "14/14 [==============================] - 0s 765us/step - loss: 0.3256 - accuracy: 0.8371\n"
     ]
    }
   ],
   "source": [
    "test_loss, test_accuracy = model.evaluate(test_inputs, test_targets)"
   ]
  },
  {
   "cell_type": "code",
   "execution_count": 32,
   "metadata": {},
   "outputs": [
    {
     "name": "stdout",
     "output_type": "stream",
     "text": [
      "\n",
      "Test loss: 0.33. Test accuracy: 83.71%\n"
     ]
    }
   ],
   "source": [
    "print(\"\\nTest loss: {0:.2f}. Test accuracy: {1:.2f}%\".format(test_loss, test_accuracy * 100.0))"
   ]
  }
 ],
 "metadata": {
  "colab": {
   "name": "TensorFlow_Audiobooks_Preprocessing_with_comments.ipynb",
   "provenance": [],
   "toc_visible": true
  },
  "kernelspec": {
   "display_name": "Python 3",
   "language": "python",
   "name": "python3"
  },
  "language_info": {
   "codemirror_mode": {
    "name": "ipython",
    "version": 3
   },
   "file_extension": ".py",
   "mimetype": "text/x-python",
   "name": "python",
   "nbconvert_exporter": "python",
   "pygments_lexer": "ipython3",
   "version": "3.7.3"
  }
 },
 "nbformat": 4,
 "nbformat_minor": 0
}
